{
  "nbformat": 4,
  "nbformat_minor": 0,
  "metadata": {
    "colab": {
      "name": "CL_week_6.ipynb",
      "provenance": [],
      "collapsed_sections": []
    },
    "kernelspec": {
      "name": "python3",
      "display_name": "Python 3"
    }
  },
  "cells": [
    {
      "cell_type": "code",
      "metadata": {
        "id": "1O2KMAnEnKyi"
      },
      "source": [
        "import pandas as pd\n",
        "import math as m\n",
        "from sklearn.cluster import KMeans \n",
        "from sklearn import metrics \n",
        "from scipy.spatial.distance import cdist \n",
        "import numpy as np \n",
        "import matplotlib.pyplot as plt  "
      ],
      "execution_count": null,
      "outputs": []
    },
    {
      "cell_type": "markdown",
      "metadata": {
        "id": "g-x3S6p5nOw4"
      },
      "source": [
        "##6.1"
      ]
    },
    {
      "cell_type": "code",
      "metadata": {
        "id": "sq7gmdrGpTe4"
      },
      "source": [
        "df=pd.DataFrame()\n",
        "df1 = pd.read_csv(\"ASHOKA.csv\")\n",
        "df['s1'] = df1[df1['Series'] == 'EQ']['Close Price']\n",
        "df1 = pd.read_csv(\"BAJAJELEC.csv\")\n",
        "df['s2'] = df1[df1['Series'] == 'EQ']['Close Price']\n",
        "df1 = pd.read_csv(\"BOMDYEING.csv\")\n",
        "df['s3'] = df1[df1['Series'] == 'EQ']['Close Price']\n",
        "df1 = pd.read_csv(\"CENTURYPLY.csv\")\n",
        "df['s4'] = df1[df1['Series'] == 'EQ']['Close Price']\n",
        "df1 = pd.read_csv(\"FORTIS.csv\")\n",
        "df['s5'] = df1[df1['Series'] == 'EQ']['Close Price']\n",
        "df1 = pd.read_csv(\"GUJALKALI.csv\")\n",
        "df['s6'] = df1[df1['Series'] == 'EQ']['Close Price']\n",
        "df1 = pd.read_csv(\"IDFC.csv\")\n",
        "df['s7'] = df1[df1['Series'] == 'EQ']['Close Price']\n",
        "df1 = pd.read_csv(\"IRCON.csv\")\n",
        "df['s8'] = df1[df1['Series'] == 'EQ']['Close Price']\n",
        "df1 = pd.read_csv(\"ITDC.csv\")\n",
        "df['s9'] = df1[df1['Series'] == 'EQ']['Close Price']\n",
        "df1 = pd.read_csv(\"JETAIRWAYS.csv\")\n",
        "df['s10'] = df1[df1['Series'] == 'EQ']['Close Price']\n"
      ],
      "execution_count": null,
      "outputs": []
    },
    {
      "cell_type": "code",
      "metadata": {
        "id": "x6bFxcJHpX7r"
      },
      "source": [
        "df1 = pd.read_csv(\"ADANIPOWER.csv\")\n",
        "df['m1'] = df1[df1['Series'] == 'EQ']['Close Price']\n",
        "\n",
        "df1 = pd.read_csv(\"AJANTPHARM.csv\")\n",
        "df['m2'] = df1[df1['Series'] == 'EQ']['Close Price']\n",
        "\n",
        "df1 = pd.read_csv(\"AMARAJABAT.csv\")\n",
        "df['m3'] = df1[df1['Series'] == 'EQ']['Close Price']\n",
        "\n",
        "df1 = pd.read_csv(\"APOLLOTYRE.csv\")\n",
        "df['m4'] = df1[df1['Series'] == 'EQ']['Close Price']\n",
        "\n",
        "df1 = pd.read_csv(\"BERGEPAINT.csv\")\n",
        "df['m5'] = df1[df1['Series'] == 'EQ']['Close Price']\n",
        "\n",
        "df1 = pd.read_csv(\"CASTROLIND.csv\")\n",
        "df['m6'] = df1[df1['Series'] == 'EQ']['Close Price']\n",
        "\n",
        "df1 = pd.read_csv(\"CUMMINSIND.csv\")\n",
        "df['m7'] = df1[df1['Series'] == 'EQ']['Close Price']\n",
        "\n",
        "df1 = pd.read_csv(\"DHFL.csv\")\n",
        "df['m8'] = df1[df1['Series'] == 'EQ']['Close Price']\n",
        "\n",
        "df1 = pd.read_csv(\"EXIDEIND.csv\")\n",
        "df['m9'] = df1[df1['Series'] == 'EQ']['Close Price']\n",
        "\n",
        "df1 = pd.read_csv(\"GMRINFRA.csv\")\n",
        "df['m10'] = df1[df1['Series'] == 'EQ']['Close Price']\n",
        "\n"
      ],
      "execution_count": null,
      "outputs": []
    },
    {
      "cell_type": "code",
      "metadata": {
        "id": "WIBF6qWxrRa6"
      },
      "source": [
        "df1 = pd.read_csv(\"ADANIPORTS.csv\")\n",
        "df['l1'] = df1[df1['Series'] == 'EQ']['Close Price']\n",
        "df1 = pd.read_csv(\"ASIANPAINT.csv\")\n",
        "df['l2'] = df1[df1['Series'] == 'EQ']['Close Price']\n",
        "df1 = pd.read_csv(\"AXISBANK.csv\")\n",
        "df['l3'] = df1[df1['Series'] == 'EQ']['Close Price']\n",
        "df1 = pd.read_csv(\"BAJFINANCE.csv\")\n",
        "df['l4'] = df1[df1['Series'] == 'EQ']['Close Price']\n",
        "df1 = pd.read_csv(\"BPCL.csv\")\n",
        "df['l5'] = df1[df1['Series'] == 'EQ']['Close Price']\n",
        "df1 = pd.read_csv(\"CIPLA.csv\")\n",
        "df['l6'] = df1[df1['Series'] == 'EQ']['Close Price']\n",
        "df1 = pd.read_csv(\"DRREDDY.csv\")\n",
        "df['l7'] = df1[df1['Series'] == 'EQ']['Close Price']\n",
        "df1 = pd.read_csv(\"EICHERMOT.csv\")\n",
        "df['l8'] = df1[df1['Series'] == 'EQ']['Close Price']\n",
        "df1 = pd.read_csv(\"GAIL.csv\")\n",
        "df['l9'] = df1[df1['Series'] == 'EQ']['Close Price']\n",
        "df1 = pd.read_csv(\"HDFC.csv\")\n",
        "df['l10'] = df1[df1['Series'] == 'EQ']['Close Price']\n"
      ],
      "execution_count": null,
      "outputs": []
    },
    {
      "cell_type": "markdown",
      "metadata": {
        "id": "RoOeNAjOst-6"
      },
      "source": [
        "##6.2"
      ]
    },
    {
      "cell_type": "code",
      "metadata": {
        "id": "-pjm7XE4rpjE"
      },
      "source": [
        "dr=df[:249].pct_change().fillna(0).mean()*252 # annual percentage returns\n",
        "dsr=df[:249].pct_change().fillna(0).std()*m.sqrt(252) # volatility"
      ],
      "execution_count": null,
      "outputs": []
    },
    {
      "cell_type": "markdown",
      "metadata": {
        "id": "iOIW2zn7uLra"
      },
      "source": [
        "##6.3"
      ]
    },
    {
      "cell_type": "code",
      "metadata": {
        "id": "eCu4yl-LtDW-",
        "colab": {
          "base_uri": "https://localhost:8080/",
          "height": 499
        },
        "outputId": "f2ca58fd-a720-4436-858f-40061a3b1c69"
      },
      "source": [
        "x1 = dr \n",
        "x2 = dsr \n",
        "X = np.array(list(zip(x1, x2))).reshape(len(x1), 2) \n",
        "  \n",
        "#Visualizing the data \n",
        "plt.figure(figsize=(15,8))\n",
        "plt.plot() \n",
        "\n",
        "plt.title('Dataset') \n",
        "plt.scatter(x1, x2) \n",
        "plt.show() "
      ],
      "execution_count": null,
      "outputs": [
        {
          "output_type": "display_data",
          "data": {
            "image/png": "[encoded data removed]",
            "text/plain": [
              "<Figure size 1080x576 with 1 Axes>"
            ]
          },
          "metadata": {
            "tags": [],
            "needs_background": "light"
          }
        }
      ]
    },
    {
      "cell_type": "code",
      "metadata": {
        "id": "odIWje5Rv4a0"
      },
      "source": [
        "distortions = [] \n",
        "inertias = [] \n",
        "mapping1 = {} \n",
        "mapping2 = {} \n",
        "K = range(1,10) \n",
        "  \n",
        "for k in K: \n",
        "    #Building and fitting the model \n",
        "    kmeanModel = KMeans(n_clusters=k).fit(X) \n",
        "    kmeanModel.fit(X)     \n",
        "      \n",
        "    distortions.append(sum(np.min(cdist(X, kmeanModel.cluster_centers_, \n",
        "                      'euclidean'),axis=1)) / X.shape[0]) \n",
        "    inertias.append(kmeanModel.inertia_) \n",
        "  \n",
        "    mapping1[k] = sum(np.min(cdist(X, kmeanModel.cluster_centers_, \n",
        "                 'euclidean'),axis=1)) / X.shape[0] \n",
        "    mapping2[k] = kmeanModel.inertia_ "
      ],
      "execution_count": null,
      "outputs": []
    },
    {
      "cell_type": "code",
      "metadata": {
        "id": "mMcIgo2y0DVT",
        "colab": {
          "base_uri": "https://localhost:8080/",
          "height": 446
        },
        "outputId": "12aa3607-bf6e-4961-8eb0-aaa20d60ab1b"
      },
      "source": [
        "for key,val in mapping1.items(): \n",
        "    print(str(key)+' : '+str(val))\n",
        "plt.plot(K, distortions, 'bx-') \n",
        "plt.xlabel('Values of K') \n",
        "plt.ylabel('Distortion') \n",
        "plt.title('The Elbow Method using Distortion') \n",
        "plt.show() "
      ],
      "execution_count": null,
      "outputs": [
        {
          "output_type": "stream",
          "text": [
            "1 : 0.30416955008905294\n",
            "2 : 0.2583568613306929\n",
            "3 : 0.17119907296867157\n",
            "4 : 0.1381954225648046\n",
            "5 : 0.1191356339552408\n",
            "6 : 0.10231486308186404\n",
            "7 : 0.0934713893797715\n",
            "8 : 0.07637595269027453\n",
            "9 : 0.06726559103439272\n"
          ],
          "name": "stdout"
        },
        {
          "output_type": "display_data",
          "data": {
            "image/png": "[encoded data removed]",
            "text/plain": [
              "<Figure size 432x288 with 1 Axes>"
            ]
          },
          "metadata": {
            "tags": [],
            "needs_background": "light"
          }
        }
      ]
    },
    {
      "cell_type": "code",
      "metadata": {
        "id": "x-R5SKmN0IZi",
        "colab": {
          "base_uri": "https://localhost:8080/",
          "height": 446
        },
        "outputId": "98c21dbd-acd1-460b-e94b-b5cc433319c1"
      },
      "source": [
        "for key,val in mapping2.items(): \n",
        "    print(str(key)+' : '+str(val)) \n",
        "plt.plot(K, inertias, 'bx-') \n",
        "plt.xlabel('Values of K') \n",
        "plt.ylabel('Inertia') \n",
        "plt.title('The Elbow Method using Inertia') \n",
        "plt.show() "
      ],
      "execution_count": null,
      "outputs": [
        {
          "output_type": "stream",
          "text": [
            "1 : 4.964195316389609\n",
            "2 : 2.6455506863851705\n",
            "3 : 1.2625532622753723\n",
            "4 : 0.7637288279215316\n",
            "5 : 0.5594752126661063\n",
            "6 : 0.4175108467086598\n",
            "7 : 0.3179238785438132\n",
            "8 : 0.23153007201372697\n",
            "9 : 0.18819259980852585\n"
          ],
          "name": "stdout"
        },
        {
          "output_type": "display_data",
          "data": {
            "image/png": "[encoded data removed]",
            "text/plain": [
              "<Figure size 432x288 with 1 Axes>"
            ]
          },
          "metadata": {
            "tags": [],
            "needs_background": "light"
          }
        }
      ]
    },
    {
      "cell_type": "code",
      "metadata": {
        "id": "omnl1RX50SUs",
        "colab": {
          "base_uri": "https://localhost:8080/",
          "height": 84
        },
        "outputId": "69f32a80-3c56-49a2-b59c-98e952eb0363"
      },
      "source": [
        "# From elbow nethod we can say that the best value of k is 4\n",
        "\n",
        "kmeanModel = KMeans(n_clusters=4).fit(X) \n",
        "kmeanModel.fit(X)\n",
        "print(kmeanModel.cluster_centers_)"
      ],
      "execution_count": null,
      "outputs": [
        {
          "output_type": "stream",
          "text": [
            "[[-0.35284312  0.42556016]\n",
            " [ 0.35400208  0.38226927]\n",
            " [ 1.46808943  0.62678106]\n",
            " [ 0.03775543  0.25967013]]\n"
          ],
          "name": "stdout"
        }
      ]
    },
    {
      "cell_type": "code",
      "metadata": {
        "id": "HfAYCvcs0ury",
        "colab": {
          "base_uri": "https://localhost:8080/",
          "height": 282
        },
        "outputId": "ec9e6028-d745-4920-d081-1247aa74ba8d"
      },
      "source": [
        "plt.scatter(X[:,0],X[:,1], c=kmeanModel.labels_, cmap='rainbow')"
      ],
      "execution_count": null,
      "outputs": [
        {
          "output_type": "execute_result",
          "data": {
            "text/plain": [
              "<matplotlib.collections.PathCollection at 0x7f3317fe9668>"
            ]
          },
          "metadata": {
            "tags": []
          },
          "execution_count": 130
        },
        {
          "output_type": "display_data",
          "data": {
            "image/png": "[encoded data removed]",
            "text/plain": [
              "<Figure size 432x288 with 1 Axes>"
            ]
          },
          "metadata": {
            "tags": [],
            "needs_background": "light"
          }
        }
      ]
    },
    {
      "cell_type": "markdown",
      "metadata": {
        "id": "-zdyt_y55efD"
      },
      "source": [
        "##6.4"
      ]
    },
    {
      "cell_type": "code",
      "metadata": {
        "id": "-oFRSGIx2d0Y",
        "colab": {
          "base_uri": "https://localhost:8080/",
          "height": 538
        },
        "outputId": "c189bdce-178c-4c56-f701-5844a4820a23"
      },
      "source": [
        "dfn = pd.DataFrame()\n",
        "dfn['name'] = dr.index\n",
        "dfn['cluster'] = kmeanModel.predict(X)\n",
        "print(dfn)"
      ],
      "execution_count": null,
      "outputs": [
        {
          "output_type": "stream",
          "text": [
            "   name  cluster\n",
            "0    s1        1\n",
            "1    s2        1\n",
            "2    s3        2\n",
            "3    s4        1\n",
            "4    s5        0\n",
            "5    s6        1\n",
            "6    s7        3\n",
            "7    s8        3\n",
            "8    s9        0\n",
            "9   s10        3\n",
            "10   m1        0\n",
            "11   m2        0\n",
            "12   m3        3\n",
            "13   m4        1\n",
            "14   m5        3\n",
            "15   m6        0\n",
            "16   m7        0\n",
            "17   m8        3\n",
            "18   m9        3\n",
            "19  m10        1\n",
            "20   l1        3\n",
            "21   l2        3\n",
            "22   l3        3\n",
            "23   l4        1\n",
            "24   l5        0\n",
            "25   l6        3\n",
            "26   l7        0\n",
            "27   l8        3\n",
            "28   l9        3\n",
            "29  l10        3\n"
          ],
          "name": "stdout"
        }
      ]
    },
    {
      "cell_type": "code",
      "metadata": {
        "id": "_lUCbcQ84VQE"
      },
      "source": [
        ""
      ],
      "execution_count": null,
      "outputs": []
    }
  ]
}