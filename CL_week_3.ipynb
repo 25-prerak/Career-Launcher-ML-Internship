{
  "nbformat": 4,
  "nbformat_minor": 0,
  "metadata": {
    "colab": {
      "name": "CL_week_3.ipynb",
      "provenance": [],
      "collapsed_sections": []
    },
    "kernelspec": {
      "name": "python3",
      "display_name": "Python 3"
    }
  },
  "cells": [
    {
      "cell_type": "markdown",
      "metadata": {
        "id": "hCNVkZt1GLYc"
      },
      "source": [
        "##3.1"
      ]
    },
    {
      "cell_type": "code",
      "metadata": {
        "id": "TlaPaCQhGHlt",
        "colab": {
          "base_uri": "https://localhost:8080/",
          "height": 269
        },
        "outputId": "fb649890-7883-4cdd-cb15-13641af928ff"
      },
      "source": [
        "import pandas as pd\n",
        "import numpy as np\n",
        "from sklearn.linear_model import LinearRegression\n",
        "\n",
        "df=pd.read_csv('GOLD.csv')\n",
        "\n",
        "df1= df[-np.isnan(df['Pred'])]\n",
        "df2= df[np.isnan(df['Pred'])]\n",
        "\n",
        "\n",
        "print(df1.tail(),df2.head())"
      ],
      "execution_count": null,
      "outputs": [
        {
          "output_type": "stream",
          "text": [
            "             Date  Price   Open   High  ...    Vol. Change %   Pred         new\n",
            "406  Dec 04, 2018  30964  30874  31085  ...   0.08K    0.57%  -31.0  301.615081\n",
            "407  Dec 05, 2018  30926  30830  30970  ...   0.04K   -0.12%   72.0  241.475101\n",
            "408  Dec 06, 2018  31005  31039  31196  ...  10.55K    0.26%   35.0  188.222186\n",
            "409  Dec 07, 2018  31440  31011  31480  ...  11.24K    1.40%  669.0  976.692705\n",
            "410  Dec 10, 2018  31895  31459  31966  ...  14.09K    1.45%  521.0  990.254297\n",
            "\n",
            "[5 rows x 9 columns]              Date  Price   Open   High  ...    Vol. Change % Pred         new\n",
            "411  Dec 11, 2018  31812  31850  31850  ...  10.53K   -0.26%  NaN  195.423493\n",
            "412  Dec 12, 2018  31626  31749  31749  ...   7.57K   -0.58%  NaN   44.232664\n",
            "413  Dec 13, 2018  31414  31550  31600  ...   8.43K   -0.67%  NaN  127.646233\n",
            "414  Dec 14, 2018  31437  31440  31514  ...   6.75K    0.07%  NaN  127.219539\n",
            "415  Dec 17, 2018  31501  31369  31530  ...   5.97K    0.20%  NaN  372.603976\n",
            "\n",
            "[5 rows x 9 columns]\n"
          ],
          "name": "stdout"
        }
      ]
    },
    {
      "cell_type": "code",
      "metadata": {
        "id": "_JcVg49DLWdx"
      },
      "source": [
        "df1_x_pred=df1[['Price','Open','High','Low']]\n",
        "df1_x_new=df[['Price','Open','High','Low']]\n",
        "\n",
        "df1_y_pred=df1['Pred']\n",
        "df1_y_new=df['new']\n"
      ],
      "execution_count": null,
      "outputs": []
    },
    {
      "cell_type": "code",
      "metadata": {
        "id": "qy1FiG4TSerZ",
        "colab": {
          "base_uri": "https://localhost:8080/",
          "height": 50
        },
        "outputId": "8e107f58-a46c-4ef2-a061-2326107c6566"
      },
      "source": [
        "l_pred=len(df1_x_pred)\n",
        "l_new=len(df1_x_new)\n",
        "\n",
        "df1_x_pred_train=df1_x_pred[:int(l_pred*(0.8))]\n",
        "df1_y_pred_train=df1_y_pred[:int(l_pred*(0.8))]\n",
        "df1_x_new_train=df1_x_new[:int(l_new*(0.8))]\n",
        "df1_y_new_train=df1_y_new[:int(l_new*(0.8))]\n",
        "\n",
        "\n",
        "df1_x_pred_test=df1_x_pred[int(l_pred*(0.8)):]\n",
        "df1_y_pred_test=df1_y_pred[int(l_pred*(0.8)):]\n",
        "df1_x_new_test=df1_x_new[int(l_new*(0.8)):]\n",
        "df1_y_new_test=df1_y_new[int(l_new*(0.8)):]\n",
        "\n",
        "print(len(df1_x_pred_test),len(df1_x_pred_train),len(df1_x_new_test),len(df1_x_new_train))\n",
        "print(len(df1_y_pred_test),len(df1_y_pred_train),len(df1_y_new_test),len(df1_y_new_train))\n"
      ],
      "execution_count": null,
      "outputs": [
        {
          "output_type": "stream",
          "text": [
            "83 328 103 409\n",
            "83 328 103 409\n"
          ],
          "name": "stdout"
        }
      ]
    },
    {
      "cell_type": "code",
      "metadata": {
        "id": "RsB774nuTohc",
        "colab": {
          "base_uri": "https://localhost:8080/",
          "height": 118
        },
        "outputId": "08361ff0-7a79-42f6-8beb-b19c99800de7"
      },
      "source": [
        "from sklearn.metrics import mean_squared_error, r2_score\n",
        "\n",
        "m1=LinearRegression()\n",
        "m2=LinearRegression()\n",
        "\n",
        "m1.fit(df1_x_pred_train,df1_y_pred_train)\n",
        "m2.fit(df1_x_new_train,df1_y_new_train)\n",
        "\n",
        "pred_y_predict=m1.predict(df1_x_pred_test)\n",
        "new_y_predict=m2.predict(df1_x_new_test)\n",
        "\n",
        "# The mean squared error\n",
        "print('Mean squared error: %.2f', mean_squared_error(df1_y_pred_test, pred_y_predict))\n",
        "print('Mean squared error: %.2f', mean_squared_error(df1_y_new_test, new_y_predict))\n",
        "\n",
        "# From the MSE values we can say that pred column is linear one as it gave negligible error\n",
        "\n",
        "print('Coefficients: \\n', m1.coef_)\n",
        "print('Coefficients: \\n', m2.coef_)\n",
        "\n"
      ],
      "execution_count": null,
      "outputs": [
        {
          "output_type": "stream",
          "text": [
            "Mean squared error: %.2f 5.015989287726843e-24\n",
            "Mean squared error: %.2f 1.5871859666837065\n",
            "Coefficients: \n",
            " [ 2.  3. -1. -4.]\n",
            "Coefficients: \n",
            " [ 1.0118279  -1.00089572  1.00483234 -1.01580959]\n"
          ],
          "name": "stdout"
        }
      ]
    },
    {
      "cell_type": "code",
      "metadata": {
        "id": "fYj9X8W9WoA3",
        "colab": {
          "base_uri": "https://localhost:8080/",
          "height": 118
        },
        "outputId": "c0126e6b-b2da-481b-c5cb-6ec384fab6ff"
      },
      "source": [
        "#Column Fill\n",
        "df2_x=df2[['Price','Open','High','Low']]\n",
        "df2['Pred']=m1.predict(df2_x)\n",
        "\n"
      ],
      "execution_count": null,
      "outputs": [
        {
          "output_type": "stream",
          "text": [
            "/usr/local/lib/python3.6/dist-packages/ipykernel_launcher.py:3: SettingWithCopyWarning: \n",
            "A value is trying to be set on a copy of a slice from a DataFrame.\n",
            "Try using .loc[row_indexer,col_indexer] = value instead\n",
            "\n",
            "See the caveats in the documentation: https://pandas.pydata.org/pandas-docs/stable/user_guide/indexing.html#returning-a-view-versus-a-copy\n",
            "  This is separate from the ipykernel package so we can avoid doing imports until\n"
          ],
          "name": "stderr"
        }
      ]
    },
    {
      "cell_type": "code",
      "metadata": {
        "id": "B28VNiXtBBBQ",
        "colab": {
          "base_uri": "https://localhost:8080/",
          "height": 252
        },
        "outputId": "4dd5a296-68af-44b6-fad6-4def49cc4dae"
      },
      "source": [
        "df=df1.append(df2)\n",
        "print(df)"
      ],
      "execution_count": null,
      "outputs": [
        {
          "output_type": "stream",
          "text": [
            "             Date  Price   Open   High  ...    Vol. Change %   Pred         new\n",
            "0    May 04, 2017  28060  28400  28482  ...   0.08K   -1.79%  738.0  117.570740\n",
            "1    May 05, 2017  28184  28136  28382  ...   0.06K    0.44% -146.0  295.430176\n",
            "2    May 08, 2017  28119  28145  28255  ...   7.85K   -0.23%   30.0  132.123714\n",
            "3    May 09, 2017  27981  28125  28192  ...  10.10K   -0.49%  357.0  101.298064\n",
            "4    May 10, 2017  28007  28060  28146  ...   9.28K    0.09%  124.0  112.153318\n",
            "..            ...    ...    ...    ...  ...     ...      ...    ...         ...\n",
            "507  Apr 26, 2019  31868  31851  31934  ...   9.67K    0.08%  535.0  247.177322\n",
            "508  Apr 30, 2019  31625  31800  31824  ...   6.44K   -0.76%  438.0   52.201158\n",
            "509  May 01, 2019  31563  31604  31657  ...   1.55K   -0.20%  269.0  113.293305\n",
            "510  May 02, 2019  31203  31420  31425  ...   0.48K   -1.14%  601.0   48.365693\n",
            "511  May 03, 2019  31341  31250  31500  ...   0.08K    0.44%  280.0  429.924911\n",
            "\n",
            "[512 rows x 9 columns]\n"
          ],
          "name": "stdout"
        }
      ]
    },
    {
      "cell_type": "markdown",
      "metadata": {
        "id": "DTg2yePEDJdw"
      },
      "source": [
        "##3.2"
      ]
    },
    {
      "cell_type": "code",
      "metadata": {
        "id": "RjhQAQAPCf4F",
        "colab": {
          "base_uri": "https://localhost:8080/",
          "height": 118
        },
        "outputId": "446fe66f-ef64-4166-a3a0-4c4511609fbb"
      },
      "source": [
        "df_a=pd.read_csv('ASHOKA.csv')\n",
        "df_n=pd.read_csv('Nifty50.csv')\n",
        "\n",
        "df_a['Date']= pd.to_datetime(df_a['Date'])\n",
        "df_n['Date']= pd.to_datetime(df_n['Date'])\n",
        "\n",
        "\"\"\"\n",
        "import datetime\n",
        "print(df_a['Date'][0], df_a['Date'][0]+datetime.timedelta(days=92))\n",
        "print(df_n['Date'][0], df_n['Date'][0]+datetime.timedelta(days=92))\n",
        "\"\"\"\n",
        "\n",
        "df_a=df_a[:65]\n",
        "df_n=df_n[:65]\n",
        "\n",
        "daily_prices = pd.concat([df_a['Close Price'], df_n['Close']], axis=1)\n",
        "daily_prices.columns = ['Ashoka', 'Nifty50']\n",
        "\n",
        "daily_returns = daily_prices.pct_change(1).dropna(axis=0)\n",
        "print(daily_returns.head())\n"
      ],
      "execution_count": null,
      "outputs": [
        {
          "output_type": "stream",
          "text": [
            "     Ashoka   Nifty50\n",
            "1 -0.005323  0.007078\n",
            "2  0.009772  0.001419\n",
            "3 -0.033871 -0.010109\n",
            "4 -0.016218 -0.000164\n",
            "5 -0.022545  0.001098\n"
          ],
          "name": "stdout"
        }
      ]
    },
    {
      "cell_type": "code",
      "metadata": {
        "id": "8123xx7nPTN0",
        "colab": {
          "base_uri": "https://localhost:8080/",
          "height": 437
        },
        "outputId": "62baf806-636b-476b-93fa-e182d1514e99"
      },
      "source": [
        "import statsmodels.api as sm\n",
        "\n",
        "X = daily_returns['Nifty50']\n",
        "y = daily_returns['Ashoka']\n",
        "\n",
        "# Add a constant to the independent value\n",
        "X1 = sm.add_constant(X)\n",
        "\n",
        "# make regression model \n",
        "model = sm.OLS(y, X1)\n",
        "\n",
        "# fit model and print results\n",
        "results = model.fit()\n",
        "print(results.summary())\n",
        "\n",
        "# beta = 1.2352"
      ],
      "execution_count": null,
      "outputs": [
        {
          "output_type": "stream",
          "text": [
            "                            OLS Regression Results                            \n",
            "==============================================================================\n",
            "Dep. Variable:                 Ashoka   R-squared:                       0.120\n",
            "Model:                            OLS   Adj. R-squared:                  0.106\n",
            "Method:                 Least Squares   F-statistic:                     8.486\n",
            "Date:                Wed, 01 Jul 2020   Prob (F-statistic):            0.00497\n",
            "Time:                        12:26:32   Log-Likelihood:                 167.03\n",
            "No. Observations:                  64   AIC:                            -330.1\n",
            "Df Residuals:                      62   BIC:                            -325.7\n",
            "Df Model:                           1                                         \n",
            "Covariance Type:            nonrobust                                         \n",
            "==============================================================================\n",
            "                 coef    std err          t      P>|t|      [0.025      0.975]\n",
            "------------------------------------------------------------------------------\n",
            "const         -0.0027      0.002     -1.181      0.242      -0.007       0.002\n",
            "Nifty50        1.2352      0.424      2.913      0.005       0.388       2.083\n",
            "==============================================================================\n",
            "Omnibus:                       10.434   Durbin-Watson:                   1.977\n",
            "Prob(Omnibus):                  0.005   Jarque-Bera (JB):               10.762\n",
            "Skew:                           0.793   Prob(JB):                      0.00460\n",
            "Kurtosis:                       4.233   Cond. No.                         188.\n",
            "==============================================================================\n",
            "\n",
            "Warnings:\n",
            "[1] Standard Errors assume that the covariance matrix of the errors is correctly specified.\n"
          ],
          "name": "stdout"
        }
      ]
    },
    {
      "cell_type": "code",
      "metadata": {
        "id": "0iHWrJn7UlUi",
        "colab": {
          "base_uri": "https://localhost:8080/",
          "height": 454
        },
        "outputId": "581a11b6-3023-4abf-8ff8-76aad63c3af7"
      },
      "source": [
        "df_a1=pd.read_csv('ASHOKA.csv')\n",
        "df_n1=pd.read_csv('Nifty50.csv')\n",
        "\n",
        "df_a1['Date']= pd.to_datetime(df_a1['Date'])\n",
        "df_n1['Date']= pd.to_datetime(df_n1['Date'])\n",
        "\n",
        "df_a1['month_year'] = pd.to_datetime(df_a1['Date']).dt.to_period('M')\n",
        "df_n1['month_year'] = pd.to_datetime(df_n1['Date']).dt.to_period('M')\n",
        "\n",
        "df_a1=df_a1.groupby(df_a1['month_year'])['Close Price'].sum()\n",
        "df_n1=df_n1.groupby(df_n1['month_year'])['Close'].sum()\n",
        "\n",
        "m_prices = pd.concat([df_a1, df_n1], axis=1)\n",
        "m_prices.columns = ['Ashoka', 'Nifty50']\n",
        "\n",
        "m_returns = m_prices.pct_change(1).dropna(axis=0)\n",
        "\n"
      ],
      "execution_count": null,
      "outputs": [
        {
          "output_type": "stream",
          "text": [
            "              Ashoka   Nifty50\n",
            "month_year                    \n",
            "2017-06     0.504227  0.633819\n",
            "2017-07    -0.008914  0.025311\n",
            "2017-08    -0.014335  0.005184\n",
            "2017-09     0.035946  0.007750\n",
            "2017-10    -0.030326 -0.032275\n",
            "2017-11     0.276969  0.120189\n",
            "2017-12    -0.017819 -0.091129\n",
            "2018-01     0.071496  0.147837\n",
            "2018-02    -0.180651 -0.155451\n",
            "2018-03     0.029089 -0.028528\n",
            "2018-04     0.267005  0.131220\n",
            "2018-05     0.042147  0.066776\n",
            "2018-06    -0.168142 -0.038426\n",
            "2018-07    -0.181943  0.071821\n",
            "2018-08    -0.249135 -0.001399\n",
            "2018-09    -0.257038 -0.157869\n",
            "2018-10     0.041120  0.072354\n",
            "2018-11     0.084971 -0.025792\n",
            "2018-12     0.012600  0.014748\n",
            "2019-01     0.155098  0.153310\n",
            "2019-02    -0.211660 -0.128474\n",
            "2019-03     0.091236 -0.007611\n",
            "2019-04    -0.019012  0.030857\n",
            "2019-05    -0.619902 -0.586662\n"
          ],
          "name": "stdout"
        }
      ]
    },
    {
      "cell_type": "code",
      "metadata": {
        "id": "KfdZ1i_aWNGO",
        "colab": {
          "base_uri": "https://localhost:8080/",
          "height": 437
        },
        "outputId": "631c54cd-9d3b-4227-ca05-725ef627f0ce"
      },
      "source": [
        "X = m_returns['Nifty50']\n",
        "y = m_returns['Ashoka']\n",
        "\n",
        "# Add a constant to the independent value\n",
        "X1 = sm.add_constant(X)\n",
        "\n",
        "# make regression model \n",
        "model = sm.OLS(y, X1)\n",
        "\n",
        "# fit model and print results\n",
        "results = model.fit()\n",
        "print(results.summary())\n",
        "\n",
        "# beta = 0.9646"
      ],
      "execution_count": null,
      "outputs": [
        {
          "output_type": "stream",
          "text": [
            "                            OLS Regression Results                            \n",
            "==============================================================================\n",
            "Dep. Variable:                 Ashoka   R-squared:                       0.774\n",
            "Model:                            OLS   Adj. R-squared:                  0.764\n",
            "Method:                 Least Squares   F-statistic:                     75.26\n",
            "Date:                Wed, 01 Jul 2020   Prob (F-statistic):           1.50e-08\n",
            "Time:                        12:33:50   Log-Likelihood:                 20.766\n",
            "No. Observations:                  24   AIC:                            -37.53\n",
            "Df Residuals:                      22   BIC:                            -35.18\n",
            "Df Model:                           1                                         \n",
            "Covariance Type:            nonrobust                                         \n",
            "==============================================================================\n",
            "                 coef    std err          t      P>|t|      [0.025      0.975]\n",
            "------------------------------------------------------------------------------\n",
            "const         -0.0236      0.022     -1.086      0.289      -0.069       0.021\n",
            "Nifty50        0.9646      0.111      8.676      0.000       0.734       1.195\n",
            "==============================================================================\n",
            "Omnibus:                        1.241   Durbin-Watson:                   1.024\n",
            "Prob(Omnibus):                  0.538   Jarque-Bera (JB):                0.559\n",
            "Skew:                          -0.370   Prob(JB):                        0.756\n",
            "Kurtosis:                       3.102   Cond. No.                         5.12\n",
            "==============================================================================\n",
            "\n",
            "Warnings:\n",
            "[1] Standard Errors assume that the covariance matrix of the errors is correctly specified.\n"
          ],
          "name": "stdout"
        }
      ]
    },
    {
      "cell_type": "markdown",
      "metadata": {
        "id": "JjhBFGVpXu3y"
      },
      "source": [
        "A stock with a beta of:\n",
        "\n",
        "zero indicates no correlation with the chosen benchmark (here Nifty50)\n",
        "\n",
        "one indicates a stock has the same volatility as the market\n",
        "\n",
        "more than one indicates a stock that’s more volatile than its benchmark (here Nifty50)\n",
        "\n",
        "less than one is less volatile than the benchmark (here Nifty50)\n",
        "\n",
        "negative value will indicate an inverse relationship between the stock and the indice (here Nifty50)\n",
        "\n",
        "INFERENCE :\n",
        "\n",
        "Daily beta value : 1.2352\n",
        "It indicates that the stock is more volatile for first 3 months\n",
        "\n",
        "Monthly beta value : 0.9646\n",
        "The monthly change is almost as sensitive as Nifty50 change\n",
        "\n"
      ]
    },
    {
      "cell_type": "code",
      "metadata": {
        "id": "wvA4PRZgXnW0"
      },
      "source": [
        ""
      ],
      "execution_count": null,
      "outputs": []
    }
  ]
}