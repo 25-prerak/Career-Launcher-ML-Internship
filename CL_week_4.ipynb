{
  "nbformat": 4,
  "nbformat_minor": 0,
  "metadata": {
    "colab": {
      "name": "CL_week_4.ipynb",
      "provenance": [],
      "collapsed_sections": []
    },
    "kernelspec": {
      "name": "python3",
      "display_name": "Python 3"
    }
  },
  "cells": [
    {
      "cell_type": "markdown",
      "metadata": {
        "id": "EY9K-OUyUa0q"
      },
      "source": [
        "#4.1"
      ]
    },
    {
      "cell_type": "code",
      "metadata": {
        "id": "Gv01xBafUU1_",
        "colab": {
          "base_uri": "https://localhost:8080/",
          "height": 252
        },
        "outputId": "aac5d191-f68f-4f72-cadd-b16741c8fdbb"
      },
      "source": [
        "import matplotlib.pyplot as plt\n",
        "import pandas as pd\n",
        "\n",
        "df=pd.read_csv('ASHOKA.csv')\n",
        "\n",
        "ashoka_mean_14=df[['Average Price']].rolling(14,min_periods=1).mean()\n",
        "ashoka_std_14=df[['Average Price']].rolling(14,min_periods=1).std()\n",
        "\n",
        "df['upper'] = ashoka_mean_14 + 2*ashoka_std_14\n",
        "df['lower'] = ashoka_mean_14 - 2*ashoka_std_14\n",
        "df['middle']=ashoka_mean_14\n",
        "df=df[1:]\n",
        "\n",
        "print(df)"
      ],
      "execution_count": null,
      "outputs": [
        {
          "output_type": "stream",
          "text": [
            "     Symbol Series         Date  ...       upper       lower      middle\n",
            "1    ASHOKA     EQ  16-May-2017  ...  213.797670  212.072330  212.935000\n",
            "2    ASHOKA     EQ  17-May-2017  ...  217.503875  210.389458  213.946667\n",
            "3    ASHOKA     EQ  18-May-2017  ...  217.042629  209.747371  213.395000\n",
            "4    ASHOKA     EQ  19-May-2017  ...  217.118858  208.293142  212.706000\n",
            "5    ASHOKA     EQ  22-May-2017  ...  219.325629  203.221038  211.273333\n",
            "..      ...    ...          ...  ...         ...         ...         ...\n",
            "489  ASHOKA     EQ  07-May-2019  ...  136.915111  116.406318  126.660714\n",
            "490  ASHOKA     EQ  08-May-2019  ...  136.838950  114.551050  125.695000\n",
            "491  ASHOKA     EQ  09-May-2019  ...  136.610308  112.632549  124.621429\n",
            "492  ASHOKA     EQ  10-May-2019  ...  135.461453  111.609976  123.535714\n",
            "493  ASHOKA     EQ  13-May-2019  ...  133.452464  111.397536  122.425000\n",
            "\n",
            "[493 rows x 18 columns]\n"
          ],
          "name": "stdout"
        }
      ]
    },
    {
      "cell_type": "code",
      "metadata": {
        "id": "971ufC1iXXeL",
        "colab": {
          "base_uri": "https://localhost:8080/",
          "height": 151
        },
        "outputId": "0dd0a7d7-8113-4384-a9a2-88eb50521a02"
      },
      "source": [
        "def call(row):\n",
        "    if row['Close Price'] <= row['lower']: return 'Buy'\n",
        "    if row['Close Price'] >= row['upper']: return 'Short'\n",
        "    if row['Close Price'] <  row['middle']:   return 'Hold Buy/Liquidate Short'\n",
        "    if row['Close Price'] >  row['middle']:   return 'Hold Short/Liquidate Buy'\n",
        "\n",
        "df['Call'] = df.apply(call, axis=1)\n",
        "print(df.head())"
      ],
      "execution_count": null,
      "outputs": [
        {
          "output_type": "stream",
          "text": [
            "   Symbol Series         Date  ...       lower      middle                      Call\n",
            "1  ASHOKA     EQ  16-May-2017  ...  212.072330  212.935000                     Short\n",
            "2  ASHOKA     EQ  17-May-2017  ...  210.389458  213.946667  Hold Short/Liquidate Buy\n",
            "3  ASHOKA     EQ  18-May-2017  ...  209.747371  213.395000                       Buy\n",
            "4  ASHOKA     EQ  19-May-2017  ...  208.293142  212.706000                       Buy\n",
            "5  ASHOKA     EQ  22-May-2017  ...  203.221038  211.273333                       Buy\n",
            "\n",
            "[5 rows x 19 columns]\n"
          ],
          "name": "stdout"
        }
      ]
    },
    {
      "cell_type": "code",
      "metadata": {
        "id": "mG2tufehcReD",
        "colab": {
          "base_uri": "https://localhost:8080/",
          "height": 34
        },
        "outputId": "543e3b6d-1708-4feb-b770-865f244c8c33"
      },
      "source": [
        "from sklearn.neural_network import MLPClassifier\n",
        "from sklearn.metrics import accuracy_score\n",
        "\n",
        "n = len(df)\n",
        "dft = df[:int(n*0.8)]\n",
        "dfte = df[int(n*0.8):]\n",
        "\n",
        "clf = MLPClassifier(solver='lbfgs', alpha=1e-5,hidden_layer_sizes=(10, 10), random_state=1,max_iter=600)\n",
        "clf.fit(dft[['Close Price','lower','upper','middle']], dft['Call'])\n",
        "\n",
        "accuracy_score(dfte['Call'], clf.predict(dfte[['Close Price','lower','upper','middle']]))\n"
      ],
      "execution_count": null,
      "outputs": [
        {
          "output_type": "execute_result",
          "data": {
            "text/plain": [
              "1.0"
            ]
          },
          "metadata": {
            "tags": []
          },
          "execution_count": 53
        }
      ]
    },
    {
      "cell_type": "code",
      "metadata": {
        "id": "J1-zHchZjvLc",
        "colab": {
          "base_uri": "https://localhost:8080/",
          "height": 34
        },
        "outputId": "8c465b6f-ec49-4268-e85f-6d73521c40ff"
      },
      "source": [
        "df2 = pd.read_csv(\"BAJAJELEC.csv\")\n",
        "\n",
        "bajaj_mean_14=df2[['Average Price']].rolling(14,min_periods=1).mean()\n",
        "bajaj_std_14=df2[['Average Price']].rolling(14,min_periods=1).std()\n",
        "\n",
        "df2['upper'] = bajaj_mean_14 + 2*bajaj_std_14\n",
        "df2['lower'] = bajaj_mean_14 - 2*bajaj_std_14\n",
        "df2['middle'] = bajaj_mean_14\n",
        "df2 = df2[1:]\n",
        "\n",
        "df2['call'] = df2.apply(call, axis=1)\n",
        "\n",
        "accuracy_score(df2['call'], clf.predict(df2[['Close Price','lower','upper','middle']]))"
      ],
      "execution_count": null,
      "outputs": [
        {
          "output_type": "execute_result",
          "data": {
            "text/plain": [
              "0.9918864097363083"
            ]
          },
          "metadata": {
            "tags": []
          },
          "execution_count": 54
        }
      ]
    },
    {
      "cell_type": "markdown",
      "metadata": {
        "id": "rSey4BpBeU2c"
      },
      "source": [
        "##4.2"
      ]
    },
    {
      "cell_type": "code",
      "metadata": {
        "id": "vcMZIbTRnTLN",
        "colab": {
          "base_uri": "https://localhost:8080/",
          "height": 151
        },
        "outputId": "2ede5e2b-f2e6-4109-ed4b-67fe51a90ac4"
      },
      "source": [
        "import pandas as pd\n",
        "\n",
        "df=pd.read_csv('ASHOKA.csv')\n",
        "print(df.head())"
      ],
      "execution_count": null,
      "outputs": [
        {
          "output_type": "stream",
          "text": [
            "   Symbol Series  ... Deliverable Qty  % Dly Qt to Traded Qty\n",
            "0  ASHOKA     EQ  ...           88509                   55.32\n",
            "1  ASHOKA     EQ  ...          151941                   71.26\n",
            "2  ASHOKA     EQ  ...          261939                   68.37\n",
            "3  ASHOKA     EQ  ...           35458                   45.05\n",
            "4  ASHOKA     EQ  ...          301747                   75.68\n",
            "\n",
            "[5 rows x 15 columns]\n"
          ],
          "name": "stdout"
        }
      ]
    },
    {
      "cell_type": "code",
      "metadata": {
        "id": "zygyTC4jeasW",
        "colab": {
          "base_uri": "https://localhost:8080/",
          "height": 434
        },
        "outputId": "a3809c52-84bf-4139-a4b0-9575b15febf2"
      },
      "source": [
        "df['oc'] = 100*(df['Close Price']-df['Open Price'])/df['Open Price']\n",
        "df['lh'] = 100*(df['High Price']-df['Low Price'])/df['Low Price']\n",
        "df['mean5']=df[['Close Price']].rolling(5,min_periods=1).mean()\n",
        "df['std5']=df[['Close Price']].rolling(5,min_periods=1).std()\n",
        "df=df[1:]\n",
        "df.head()"
      ],
      "execution_count": null,
      "outputs": [
        {
          "output_type": "execute_result",
          "data": {
            "text/html": [
              "<div>\n",
              "<style scoped>\n",
              "    .dataframe tbody tr th:only-of-type {\n",
              "        vertical-align: middle;\n",
              "    }\n",
              "\n",
              "    .dataframe tbody tr th {\n",
              "        vertical-align: top;\n",
              "    }\n",
              "\n",
              "    .dataframe thead th {\n",
              "        text-align: right;\n",
              "    }\n",
              "</style>\n",
              "<table border=\"1\" class=\"dataframe\">\n",
              "  <thead>\n",
              "    <tr style=\"text-align: right;\">\n",
              "      <th></th>\n",
              "      <th>Symbol</th>\n",
              "      <th>Series</th>\n",
              "      <th>Date</th>\n",
              "      <th>Prev Close</th>\n",
              "      <th>Open Price</th>\n",
              "      <th>High Price</th>\n",
              "      <th>Low Price</th>\n",
              "      <th>Last Price</th>\n",
              "      <th>Close Price</th>\n",
              "      <th>Average Price</th>\n",
              "      <th>Total Traded Quantity</th>\n",
              "      <th>Turnover</th>\n",
              "      <th>No. of Trades</th>\n",
              "      <th>Deliverable Qty</th>\n",
              "      <th>% Dly Qt to Traded Qty</th>\n",
              "      <th>oc</th>\n",
              "      <th>lh</th>\n",
              "      <th>mean5</th>\n",
              "      <th>std5</th>\n",
              "    </tr>\n",
              "  </thead>\n",
              "  <tbody>\n",
              "    <tr>\n",
              "      <th>1</th>\n",
              "      <td>ASHOKA</td>\n",
              "      <td>EQ</td>\n",
              "      <td>16-May-2017</td>\n",
              "      <td>216.05</td>\n",
              "      <td>212.3</td>\n",
              "      <td>216.00</td>\n",
              "      <td>211.00</td>\n",
              "      <td>214.00</td>\n",
              "      <td>214.90</td>\n",
              "      <td>213.24</td>\n",
              "      <td>213214</td>\n",
              "      <td>45466299.10</td>\n",
              "      <td>2860</td>\n",
              "      <td>151941</td>\n",
              "      <td>71.26</td>\n",
              "      <td>1.224682</td>\n",
              "      <td>2.369668</td>\n",
              "      <td>215.475000</td>\n",
              "      <td>0.813173</td>\n",
              "    </tr>\n",
              "    <tr>\n",
              "      <th>2</th>\n",
              "      <td>ASHOKA</td>\n",
              "      <td>EQ</td>\n",
              "      <td>17-May-2017</td>\n",
              "      <td>214.90</td>\n",
              "      <td>214.3</td>\n",
              "      <td>218.70</td>\n",
              "      <td>212.10</td>\n",
              "      <td>216.55</td>\n",
              "      <td>217.00</td>\n",
              "      <td>215.97</td>\n",
              "      <td>383131</td>\n",
              "      <td>82743402.10</td>\n",
              "      <td>3297</td>\n",
              "      <td>261939</td>\n",
              "      <td>68.37</td>\n",
              "      <td>1.259916</td>\n",
              "      <td>3.111740</td>\n",
              "      <td>215.983333</td>\n",
              "      <td>1.051586</td>\n",
              "    </tr>\n",
              "    <tr>\n",
              "      <th>3</th>\n",
              "      <td>ASHOKA</td>\n",
              "      <td>EQ</td>\n",
              "      <td>18-May-2017</td>\n",
              "      <td>217.00</td>\n",
              "      <td>216.0</td>\n",
              "      <td>216.60</td>\n",
              "      <td>208.00</td>\n",
              "      <td>210.00</td>\n",
              "      <td>209.65</td>\n",
              "      <td>211.74</td>\n",
              "      <td>78709</td>\n",
              "      <td>16665707.55</td>\n",
              "      <td>1372</td>\n",
              "      <td>35458</td>\n",
              "      <td>45.05</td>\n",
              "      <td>-2.939815</td>\n",
              "      <td>4.134615</td>\n",
              "      <td>214.400000</td>\n",
              "      <td>3.281006</td>\n",
              "    </tr>\n",
              "    <tr>\n",
              "      <th>4</th>\n",
              "      <td>ASHOKA</td>\n",
              "      <td>EQ</td>\n",
              "      <td>19-May-2017</td>\n",
              "      <td>209.65</td>\n",
              "      <td>212.1</td>\n",
              "      <td>213.90</td>\n",
              "      <td>205.05</td>\n",
              "      <td>206.05</td>\n",
              "      <td>206.25</td>\n",
              "      <td>209.95</td>\n",
              "      <td>398725</td>\n",
              "      <td>83713500.05</td>\n",
              "      <td>2060</td>\n",
              "      <td>301747</td>\n",
              "      <td>75.68</td>\n",
              "      <td>-2.758133</td>\n",
              "      <td>4.316020</td>\n",
              "      <td>212.770000</td>\n",
              "      <td>4.621499</td>\n",
              "    </tr>\n",
              "    <tr>\n",
              "      <th>5</th>\n",
              "      <td>ASHOKA</td>\n",
              "      <td>EQ</td>\n",
              "      <td>22-May-2017</td>\n",
              "      <td>206.25</td>\n",
              "      <td>208.5</td>\n",
              "      <td>209.15</td>\n",
              "      <td>198.95</td>\n",
              "      <td>201.05</td>\n",
              "      <td>201.60</td>\n",
              "      <td>204.11</td>\n",
              "      <td>126516</td>\n",
              "      <td>25822846.35</td>\n",
              "      <td>2941</td>\n",
              "      <td>86762</td>\n",
              "      <td>68.58</td>\n",
              "      <td>-3.309353</td>\n",
              "      <td>5.126916</td>\n",
              "      <td>209.880000</td>\n",
              "      <td>6.278595</td>\n",
              "    </tr>\n",
              "  </tbody>\n",
              "</table>\n",
              "</div>"
            ],
            "text/plain": [
              "   Symbol Series         Date  ...        lh       mean5      std5\n",
              "1  ASHOKA     EQ  16-May-2017  ...  2.369668  215.475000  0.813173\n",
              "2  ASHOKA     EQ  17-May-2017  ...  3.111740  215.983333  1.051586\n",
              "3  ASHOKA     EQ  18-May-2017  ...  4.134615  214.400000  3.281006\n",
              "4  ASHOKA     EQ  19-May-2017  ...  4.316020  212.770000  4.621499\n",
              "5  ASHOKA     EQ  22-May-2017  ...  5.126916  209.880000  6.278595\n",
              "\n",
              "[5 rows x 19 columns]"
            ]
          },
          "metadata": {
            "tags": []
          },
          "execution_count": 56
        }
      ]
    },
    {
      "cell_type": "code",
      "metadata": {
        "id": "pXAVihB-emAa"
      },
      "source": [
        "def action(row):\n",
        "    if row['Close Price'] <= row['Prev Close']: \n",
        "      return 1\n",
        "    else: \n",
        "      return -1\n",
        "\n",
        "df['action'] = df.apply(action, axis=1)\n"
      ],
      "execution_count": null,
      "outputs": []
    },
    {
      "cell_type": "code",
      "metadata": {
        "id": "p1idQWjXhMie",
        "colab": {
          "base_uri": "https://localhost:8080/",
          "height": 34
        },
        "outputId": "1297427d-e83e-4790-a1fe-cdf4da0b1b16"
      },
      "source": [
        "from sklearn.ensemble import RandomForestClassifier\n",
        "n = len(df)\n",
        "\n",
        "dft = df[:int(n*0.8)]\n",
        "dfte = df[int(n*0.8):]\n",
        "\n",
        "clf = RandomForestClassifier(random_state=0)\n",
        "clf.fit(dft[['oc','lh','mean5','std5']], dft['action'])\n",
        "\n",
        "accuracy_score(dfte['action'], clf.predict(dfte[['oc','lh','mean5','std5']]))"
      ],
      "execution_count": null,
      "outputs": [
        {
          "output_type": "execute_result",
          "data": {
            "text/plain": [
              "0.8585858585858586"
            ]
          },
          "metadata": {
            "tags": []
          },
          "execution_count": 58
        }
      ]
    },
    {
      "cell_type": "code",
      "metadata": {
        "id": "ZfU9MIsOi98m",
        "colab": {
          "base_uri": "https://localhost:8080/",
          "height": 500
        },
        "outputId": "8ef6f98b-e8eb-4209-9668-ff752b9b665c"
      },
      "source": [
        "plt.figure(figsize=(15,8))\n",
        "plt.plot(1+(df['oc']/100).cumsum())"
      ],
      "execution_count": null,
      "outputs": [
        {
          "output_type": "execute_result",
          "data": {
            "text/plain": [
              "[<matplotlib.lines.Line2D at 0x7f6ffd3dc780>]"
            ]
          },
          "metadata": {
            "tags": []
          },
          "execution_count": 59
        },
        {
          "output_type": "display_data",
          "data": {
            "image/png": "[encoded data removed]",
            "text/plain": [
              "<Figure size 1080x576 with 1 Axes>"
            ]
          },
          "metadata": {
            "tags": [],
            "needs_background": "light"
          }
        }
      ]
    },
    {
      "cell_type": "code",
      "metadata": {
        "id": "BJIC6eS8qRoj"
      },
      "source": [
        ""
      ],
      "execution_count": null,
      "outputs": []
    }
  ]
}