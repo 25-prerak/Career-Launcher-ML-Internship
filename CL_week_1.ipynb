{
  "nbformat": 4,
  "nbformat_minor": 0,
  "metadata": {
    "colab": {
      "name": "CL_week_1.ipynb",
      "provenance": [],
      "collapsed_sections": []
    },
    "kernelspec": {
      "name": "python3",
      "display_name": "Python 3"
    }
  },
  "cells": [
    {
      "cell_type": "markdown",
      "metadata": {
        "id": "XitPNj9ffWxb"
      },
      "source": [
        "##1.1"
      ]
    },
    {
      "cell_type": "code",
      "metadata": {
        "id": "JjTmMM_3ejTB"
      },
      "source": [
        "import pandas as pd"
      ],
      "execution_count": null,
      "outputs": []
    },
    {
      "cell_type": "code",
      "metadata": {
        "id": "ZDzBrf20fGnF",
        "colab": {
          "base_uri": "https://localhost:8080/",
          "height": 437
        },
        "outputId": "a1cc8785-3860-4650-948a-8f85c3699031"
      },
      "source": [
        "df=pd.read_csv('TSLA.csv')\n",
        "print(df.head())\n",
        "print(df.tail())\n",
        "print(df.describe())"
      ],
      "execution_count": null,
      "outputs": [
        {
          "output_type": "stream",
          "text": [
            "           Date  Close Price  ...  Low Price  Total Traded Quantity\n",
            "0  Oct 24, 2019       299.68  ...     290.05                 29.82M\n",
            "1  Oct 23, 2019       254.68  ...     251.35                 11.22M\n",
            "2  Oct 22, 2019       255.58  ...     250.85                  4.63M\n",
            "3  Oct 21, 2019       253.50  ...     250.18                  5.11M\n",
            "4  Oct 18, 2019       256.95  ...     255.10                  5.75M\n",
            "\n",
            "[5 rows x 6 columns]\n",
            "             Date  Close Price  ...  Low Price  Total Traded Quantity\n",
            "498  Oct 31, 2017       331.53  ...     320.18                  5.67M\n",
            "499  Oct 30, 2017       320.08  ...     317.25                  4.25M\n",
            "500  Oct 27, 2017       320.87  ...     316.66                  6.98M\n",
            "501  Oct 26, 2017       326.17  ...     323.20                  5.02M\n",
            "502  Oct 25, 2017       325.84  ...     323.56                  8.59M\n",
            "\n",
            "[5 rows x 6 columns]\n",
            "       Close Price  Open Price  High Price   Low Price\n",
            "count   503.000000  503.000000  503.000000  503.000000\n",
            "mean    291.988330  291.888469  297.229940  286.287575\n",
            "std      43.789555   43.758961   44.633081   42.947925\n",
            "min     178.970000  181.100000  186.680000  176.990000\n",
            "25%     257.835000  257.615000  262.125000  252.175000\n",
            "50%     299.920000  300.370000  305.960000  293.680000\n",
            "75%     326.130000  325.105000  332.555000  319.790000\n",
            "max     379.570000  375.000000  387.460000  367.120000\n"
          ],
          "name": "stdout"
        }
      ]
    },
    {
      "cell_type": "markdown",
      "metadata": {
        "id": "P_WjVxPCfmLd"
      },
      "source": [
        "##1.2"
      ]
    },
    {
      "cell_type": "code",
      "metadata": {
        "id": "ocPWjLMDfPGV",
        "colab": {
          "base_uri": "https://localhost:8080/",
          "height": 67
        },
        "outputId": "ca8973a4-ab14-4444-9e82-22c8d020fedd"
      },
      "source": [
        "df_90=df[0:90]\n",
        "x=df_90.describe()\n",
        "print(\"Mean :\", x[\"Close Price\"][1])\n",
        "print(\"Min :\", x[\"Close Price\"][3])\n",
        "print(\"Max :\", x[\"Close Price\"][7])"
      ],
      "execution_count": null,
      "outputs": [
        {
          "output_type": "stream",
          "text": [
            "Mean : 237.01055555555556\n",
            "Min : 211.4\n",
            "Max : 299.68\n"
          ],
          "name": "stdout"
        }
      ]
    },
    {
      "cell_type": "markdown",
      "metadata": {
        "id": "UXD98tuVjIck"
      },
      "source": [
        "##1.3"
      ]
    },
    {
      "cell_type": "code",
      "metadata": {
        "id": "nCf-fLodgz6Y"
      },
      "source": [
        "df['Date']= pd.to_datetime(df['Date'])"
      ],
      "execution_count": null,
      "outputs": []
    },
    {
      "cell_type": "code",
      "metadata": {
        "id": "1zdFlsa_j8O8",
        "colab": {
          "base_uri": "https://localhost:8080/",
          "height": 235
        },
        "outputId": "c62fb3de-f35c-4c45-e593-4db81af60a3e"
      },
      "source": [
        "df.info()"
      ],
      "execution_count": null,
      "outputs": [
        {
          "output_type": "stream",
          "text": [
            "<class 'pandas.core.frame.DataFrame'>\n",
            "RangeIndex: 503 entries, 0 to 502\n",
            "Data columns (total 6 columns):\n",
            " #   Column                 Non-Null Count  Dtype         \n",
            "---  ------                 --------------  -----         \n",
            " 0   Date                   503 non-null    datetime64[ns]\n",
            " 1   Close Price            503 non-null    float64       \n",
            " 2   Open Price             503 non-null    float64       \n",
            " 3   High Price             503 non-null    float64       \n",
            " 4   Low Price              503 non-null    float64       \n",
            " 5   Total Traded Quantity  503 non-null    object        \n",
            "dtypes: datetime64[ns](1), float64(4), object(1)\n",
            "memory usage: 23.7+ KB\n"
          ],
          "name": "stdout"
        }
      ]
    },
    {
      "cell_type": "code",
      "metadata": {
        "id": "nBVxANahkD7e",
        "colab": {
          "base_uri": "https://localhost:8080/",
          "height": 34
        },
        "outputId": "54378a43-0fd4-4148-edb1-36c2b48be4a2"
      },
      "source": [
        "print(df['Date'][0]-df['Date'][len(df)-1])"
      ],
      "execution_count": null,
      "outputs": [
        {
          "output_type": "stream",
          "text": [
            "729 days 00:00:00\n"
          ],
          "name": "stdout"
        }
      ]
    },
    {
      "cell_type": "markdown",
      "metadata": {
        "id": "TWXKB50QkBx_"
      },
      "source": [
        "##1.4"
      ]
    },
    {
      "cell_type": "code",
      "metadata": {
        "id": "K1KLCSkNj9fn",
        "colab": {
          "base_uri": "https://localhost:8080/",
          "height": 470
        },
        "outputId": "6d39f68e-c346-458e-cb48-d1abbb04f73f"
      },
      "source": [
        "df['month_year'] = pd.to_datetime(df['Date']).dt.to_period('M')\n",
        "df['Total Traded Quantity'] = df['Total Traded Quantity'].str.rstrip('M')\n",
        "df['Total Traded Quantity']= pd.to_numeric(df['Total Traded Quantity'])\n",
        "df['Total Traded Quantity'] = df['Total Traded Quantity']*(1000000)\n",
        "df[\"Total Price\"] = df[\"Close Price\"]*df[\"Total Traded Quantity\"]\n",
        "\n",
        "sum_price = df.groupby(df['month_year'])['Total Price'].sum()\n",
        "sum_volume = df.groupby(df['month_year'])['Total Traded Quantity'].sum()\n",
        "\n",
        "vwap=sum_price/sum_volume\n",
        "print(\"VWAP :\",vwap)"
      ],
      "execution_count": null,
      "outputs": [
        {
          "output_type": "stream",
          "text": [
            "VWAP : month_year\n",
            "2017-10    325.012347\n",
            "2017-11    309.500577\n",
            "2017-12    324.671030\n",
            "2018-01    338.192926\n",
            "2018-02    333.128621\n",
            "2018-03    305.362653\n",
            "2018-04    288.258470\n",
            "2018-05    289.492634\n",
            "2018-06    337.848719\n",
            "2018-07    313.085949\n",
            "2018-08    338.429717\n",
            "2018-09    283.920060\n",
            "2018-10    290.774345\n",
            "2018-11    345.132018\n",
            "2018-12    343.673861\n",
            "2019-01    312.929452\n",
            "2019-02    307.989824\n",
            "2019-03    278.525216\n",
            "2019-04    262.122016\n",
            "2019-05    217.257468\n",
            "2019-06    211.260398\n",
            "2019-07    241.165854\n",
            "2019-08    224.566217\n",
            "2019-09    237.005077\n",
            "2019-10    256.960142\n",
            "Freq: M, dtype: float64\n"
          ],
          "name": "stdout"
        }
      ]
    },
    {
      "cell_type": "markdown",
      "metadata": {
        "id": "uBTUjK91rniN"
      },
      "source": [
        "##1.5"
      ]
    },
    {
      "cell_type": "code",
      "metadata": {
        "id": "s6zMalXilrT5",
        "colab": {
          "base_uri": "https://localhost:8080/",
          "height": 34
        },
        "outputId": "6655036e-c3ab-4752-8c13-eeb5be9cda87"
      },
      "source": [
        "def avg_N(N):\n",
        "  df_N=df[0:N]\n",
        "  t=df_90.describe()\n",
        "  print(\"Avg :\", t[\"Close Price\"][1])\n",
        "\n",
        "avg_N(90)"
      ],
      "execution_count": null,
      "outputs": [
        {
          "output_type": "stream",
          "text": [
            "Avg : 237.01055555555556\n"
          ],
          "name": "stdout"
        }
      ]
    },
    {
      "cell_type": "code",
      "metadata": {
        "id": "fj0A3HPeyhGb",
        "colab": {
          "base_uri": "https://localhost:8080/",
          "height": 34
        },
        "outputId": "4e286d4a-2fb2-4e45-ce2a-49d8ffccaab8"
      },
      "source": [
        "def profit_loss(N):\n",
        "  pl=list(df['Close Price'])\n",
        "  return ((pl[0]-pl[N-1]) / pl[N-1])*100\n",
        "\n",
        "profit_loss(90)"
      ],
      "execution_count": null,
      "outputs": [
        {
          "output_type": "execute_result",
          "data": {
            "text/plain": [
              "32.349953628052816"
            ]
          },
          "metadata": {
            "tags": []
          },
          "execution_count": 25
        }
      ]
    },
    {
      "cell_type": "markdown",
      "metadata": {
        "id": "_r04yVA9vmKM"
      },
      "source": [
        "##1.6\n"
      ]
    },
    {
      "cell_type": "code",
      "metadata": {
        "id": "qTVoRFaYvonJ",
        "colab": {
          "base_uri": "https://localhost:8080/",
          "height": 218
        },
        "outputId": "ca47cfaa-1d64-48a3-e6e7-7f34d0bb4706"
      },
      "source": [
        "df_temp = df[\"Close Price\"]\n",
        "df_temp = df_temp[::-1]\n",
        "df_temp = df_temp.pct_change().fillna(0)\n",
        "df_temp = (df_temp[::-1])*(100)\n",
        "print(df_temp)"
      ],
      "execution_count": null,
      "outputs": [
        {
          "output_type": "stream",
          "text": [
            "0      17.669232\n",
            "1      -0.352140\n",
            "2       0.820513\n",
            "3      -1.342674\n",
            "4      -1.916250\n",
            "         ...    \n",
            "498     3.577231\n",
            "499    -0.246206\n",
            "500    -1.624920\n",
            "501     0.101277\n",
            "502     0.000000\n",
            "Name: Close Price, Length: 503, dtype: float64\n"
          ],
          "name": "stdout"
        }
      ]
    },
    {
      "cell_type": "code",
      "metadata": {
        "id": "2QT4Kbqu5Pfd",
        "colab": {
          "base_uri": "https://localhost:8080/",
          "height": 151
        },
        "outputId": "fb6aa342-dd45-468d-d3d7-25e95fa94122"
      },
      "source": [
        "df['day_perc_change']=df_temp\n",
        "print(df.head())\n"
      ],
      "execution_count": null,
      "outputs": [
        {
          "output_type": "stream",
          "text": [
            "        Date  Close Price  Open Price  ...  month_year   Total Price  day_perc_change\n",
            "0 2019-10-24       299.68      298.97  ...     2019-10  8.936458e+09        17.669232\n",
            "1 2019-10-23       254.68      254.50  ...     2019-10  2.857510e+09        -0.352140\n",
            "2 2019-10-22       255.58      254.32  ...     2019-10  1.183335e+09         0.820513\n",
            "3 2019-10-21       253.50      258.33  ...     2019-10  1.295385e+09        -1.342674\n",
            "4 2019-10-18       256.95      260.70  ...     2019-10  1.477462e+09        -1.916250\n",
            "\n",
            "[5 rows x 9 columns]\n"
          ],
          "name": "stdout"
        }
      ]
    },
    {
      "cell_type": "markdown",
      "metadata": {
        "id": "Kx8lkGJs_TGP"
      },
      "source": [
        "##1.7"
      ]
    },
    {
      "cell_type": "code",
      "metadata": {
        "id": "Wife2-GF-fXE",
        "colab": {
          "base_uri": "https://localhost:8080/",
          "height": 34
        },
        "outputId": "3c007b4a-7c44-47ea-9c2d-751d5bc92d4e"
      },
      "source": [
        "def l_df(x):\n",
        "  res=''\n",
        "  if(x < 0.5 and x>=-0.5):\n",
        "    res='Slight or no change'\n",
        "  elif(x < 1 and x>=0.5):\n",
        "    res='Slight positive'\n",
        "  elif(x < -0.5 and x>=-1):\n",
        "    res='Slight negative'\n",
        "  elif(x < 3 and x>=1):\n",
        "    res='Positive'\n",
        "  elif(x < -1 and x>=-3):\n",
        "    res='Nositive'\n",
        "  elif(x < 7 and x>=3):\n",
        "    res='Among top gainers'\n",
        "  elif(x < -3 and x>=-7):\n",
        "    res='Among top losers'\n",
        "  elif(x > 7):\n",
        "    res='Bull run'\n",
        "  else:\n",
        "    res='Bear drop'\n",
        "  return res\n",
        "\n",
        "\n",
        "df['Trend'] = df['day_perc_change'].apply(lambda x: l_df(x))\n",
        "print(df['Trend'][79])"
      ],
      "execution_count": null,
      "outputs": [
        {
          "output_type": "stream",
          "text": [
            "Among top gainers\n"
          ],
          "name": "stdout"
        }
      ]
    },
    {
      "cell_type": "markdown",
      "metadata": {
        "id": "gzfMDnJ_FFZF"
      },
      "source": [
        "##1.8"
      ]
    },
    {
      "cell_type": "code",
      "metadata": {
        "id": "bmjzgqymBQY9",
        "colab": {
          "base_uri": "https://localhost:8080/",
          "height": 370
        },
        "outputId": "8f4fcf99-fcf8-4b09-d0a7-94d4ddbdc33f"
      },
      "source": [
        "mean = df.groupby(df['Trend'])['Total Traded Quantity'].mean()\n",
        "median = df.groupby(df['Trend'])['Total Traded Quantity'].median()\n",
        "print(mean,median)"
      ],
      "execution_count": null,
      "outputs": [
        {
          "output_type": "stream",
          "text": [
            "Trend\n",
            "Among top gainers      1.100100e+07\n",
            "Among top losers       1.125907e+07\n",
            "Bear drop              1.839286e+07\n",
            "Bull run               2.004364e+07\n",
            "Nositive               7.830693e+06\n",
            "Positive               7.134673e+06\n",
            "Slight negative        6.668293e+06\n",
            "Slight or no change    6.793011e+06\n",
            "Slight positive        7.209688e+06\n",
            "Name: Total Traded Quantity, dtype: float64 Trend\n",
            "Among top gainers       9900000.0\n",
            "Among top losers        9970000.0\n",
            "Bear drop              18450000.0\n",
            "Bull run               19900000.0\n",
            "Nositive                7000000.0\n",
            "Positive                6840000.0\n",
            "Slight negative         5840000.0\n",
            "Slight or no change     6190000.0\n",
            "Slight positive         6570000.0\n",
            "Name: Total Traded Quantity, dtype: float64\n"
          ],
          "name": "stdout"
        }
      ]
    },
    {
      "cell_type": "markdown",
      "metadata": {
        "id": "yw_FbvHMFnzx"
      },
      "source": [
        "##1.9"
      ]
    },
    {
      "cell_type": "code",
      "metadata": {
        "id": "3zLHS2-FFplM"
      },
      "source": [
        "df.to_csv('week2.csv')"
      ],
      "execution_count": null,
      "outputs": []
    },
    {
      "cell_type": "code",
      "metadata": {
        "id": "hfOgI5pVHT7k"
      },
      "source": [
        ""
      ],
      "execution_count": null,
      "outputs": []
    }
  ]
}